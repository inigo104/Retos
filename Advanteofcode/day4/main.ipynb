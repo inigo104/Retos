{
 "cells": [
  {
   "cell_type": "code",
   "execution_count": 40,
   "metadata": {},
   "outputs": [
    {
     "name": "stdout",
     "output_type": "stream",
     "text": [
      "804\n"
     ]
    }
   ],
   "source": [
    "#Part1\n",
    "\n",
    "with open(\"input.txt\") as archivo: \n",
    "    input = archivo.read().split(\"\\n\")\n",
    "\n",
    "\n",
    "def overlap(input):\n",
    "    secion1, secion2 = input.split(\",\")\n",
    "    \n",
    "    min_secion1, max_secion1 = secion1.split(\"-\")\n",
    "    min_secion2, max_secion2 = secion2.split(\"-\")\n",
    "\n",
    "    area1 = list(range(int(min_secion1), int(max_secion1)))\n",
    "    area2 = list(range(int(min_secion2), int(max_secion2)))\n",
    "\n",
    "    return min_secion1 in area2 and max_secion1 in area2 or min_secion2 in area1 and max_secion2 in area1\n",
    "\n",
    "\n",
    "total_overlap = 0\n",
    "\n",
    "for areas in input:\n",
    "    if overlap(areas):\n",
    "        total_overlap += 1\n",
    "\n",
    "print (total_overlap)"
   ]
  }
 ],
 "metadata": {
  "kernelspec": {
   "display_name": "Python 3",
   "language": "python",
   "name": "python3"
  },
  "language_info": {
   "codemirror_mode": {
    "name": "ipython",
    "version": 3
   },
   "file_extension": ".py",
   "mimetype": "text/x-python",
   "name": "python",
   "nbconvert_exporter": "python",
   "pygments_lexer": "ipython3",
   "version": "3.11.3"
  },
  "orig_nbformat": 4
 },
 "nbformat": 4,
 "nbformat_minor": 2
}
