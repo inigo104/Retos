{
 "cells": [
  {
   "cell_type": "code",
   "execution_count": 38,
   "metadata": {},
   "outputs": [
    {
     "name": "stdout",
     "output_type": "stream",
     "text": [
      "1198\n",
      "1198\n"
     ]
    }
   ],
   "source": [
    "#Part 1\n",
    "\n",
    "with open(\"input.txt\") as file: \n",
    "    signal = file.read()\n",
    "\n",
    "for i in range(len(signal)):\n",
    "    if (signal[i] != signal[i+1] and \n",
    "        signal[i] != signal[i+2] and\n",
    "        signal[i] != signal[i+3] and\n",
    "        signal[i+1] != signal[i+2] and\n",
    "        signal[i+1] != signal[i+3] and\n",
    "        signal[i+2] != signal[i+3]):\n",
    "        print(i+4)\n",
    "        break\n",
    "\n",
    "#v2\n",
    "n_dif_characters = 4\n",
    "\n",
    "for i in range(len(signal)):\n",
    "    if len(set(signal[i:i+n_dif_characters])) == n_dif_characters:\n",
    "        print(i+n_dif_characters)\n",
    "        break"
   ]
  },
  {
   "cell_type": "code",
   "execution_count": 39,
   "metadata": {},
   "outputs": [
    {
     "name": "stdout",
     "output_type": "stream",
     "text": [
      "3120\n"
     ]
    }
   ],
   "source": [
    "#Part 2\n",
    "\n",
    "\n",
    "n_dif_characters = 14\n",
    "\n",
    "for i in range(len(signal)):\n",
    "    if len(set(signal[i:i+n_dif_characters])) == n_dif_characters:\n",
    "        print(i+n_dif_characters)\n",
    "        break"
   ]
  }
 ],
 "metadata": {
  "kernelspec": {
   "display_name": "Python 3",
   "language": "python",
   "name": "python3"
  },
  "language_info": {
   "codemirror_mode": {
    "name": "ipython",
    "version": 3
   },
   "file_extension": ".py",
   "mimetype": "text/x-python",
   "name": "python",
   "nbconvert_exporter": "python",
   "pygments_lexer": "ipython3",
   "version": "3.11.3"
  },
  "orig_nbformat": 4
 },
 "nbformat": 4,
 "nbformat_minor": 2
}
