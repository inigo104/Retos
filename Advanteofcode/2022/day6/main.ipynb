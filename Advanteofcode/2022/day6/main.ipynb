{
 "cells": [
  {
   "cell_type": "code",
   "execution_count": 38,
   "metadata": {},
   "outputs": [
    {
     "name": "stdout",
     "output_type": "stream",
     "text": [
      "1198\n",
      "1198\n"
     ]
    }
   ],
   "source": [
    "#Part 1\n",
    "\n",
    "with open(\"input.txt\") as file: \n",
    "    signal = file.read()\n",
    "\n",
    "for i in range(len(signal)):\n",
    "    if (signal[i] != signal[i+1] and \n",
    "        signal[i] != signal[i+2] and\n",
    "        signal[i] != signal[i+3] and\n",
    "        signal[i+1] != signal[i+2] and\n",
    "        signal[i+1] != signal[i+3] and\n",
    "        signal[i+2] != signal[i+3]):\n",
    "        print(i+4)\n",
    "        break\n",
    "\n",
    "#v2\n",
    "n_dif_characters = 4\n",
    "\n",
    "for i in range(len(signal)):\n",
    "    if len(set(signal[i:i+n_dif_characters])) == n_dif_characters:\n",
    "        print(i+n_dif_characters)\n",
    "        break"
   ]
  },
  {
   "cell_type": "code",
   "execution_count": 45,
   "metadata": {},
   "outputs": [
    {
     "name": "stdout",
     "output_type": "stream",
     "text": [
      "3120\n"
     ]
    }
   ],
   "source": [
    "#Part 2\n",
    "\n",
    "\n",
    "n_dif_characters = 14\n",
    "\n",
    "for i in range(len(signal)):\n",
    "    if len(set(signal[i:i+n_dif_characters])) == n_dif_characters:\n",
    "        print(i+n_dif_characters)\n",
    "        break"
   ]
  },
  {
   "cell_type": "code",
   "execution_count": 43,
   "metadata": {},
   "outputs": [
    {
     "name": "stdout",
     "output_type": "stream",
     "text": [
      "1198\n",
      "3120\n"
     ]
    }
   ],
   "source": [
    "#ChatGPT\n",
    "\n",
    "\n",
    "def find_marker(data, length):\n",
    "    # Initialize a buffer to hold the last length characters\n",
    "    buffer = []\n",
    "\n",
    "    # Iterate over the data\n",
    "    for i, char in enumerate(data):\n",
    "        # Add the current character to the buffer\n",
    "        buffer.append(char)\n",
    "\n",
    "        # If the buffer is too long, remove the oldest character\n",
    "        if len(buffer) > length:\n",
    "            buffer.pop(0)\n",
    "\n",
    "        # If the buffer is the correct length and all characters are unique, return the position\n",
    "        if len(buffer) == length and len(set(buffer)) == length:\n",
    "            return i + 1  # +1 because positions start from 1, not 0\n",
    "\n",
    "    # If no marker is found, return None\n",
    "    return None\n",
    "\n",
    "with open(\"input.txt\", \"r\") as file:\n",
    "    data = file.read().strip()\n",
    "\n",
    "marker_position = find_marker(data, 4)\n",
    "print(marker_position)\n",
    "\n",
    "marker_position = find_marker(data, 14)\n",
    "print(marker_position)"
   ]
  },
  {
   "cell_type": "code",
   "execution_count": 49,
   "metadata": {},
   "outputs": [
    {
     "name": "stdout",
     "output_type": "stream",
     "text": [
      "0 b ['b'] 1\n",
      "1 v ['b', 'v'] 2\n",
      "2 w ['b', 'v', 'w'] 3\n",
      "3 b ['b', 'v', 'w', 'b'] 3\n",
      "4 j ['v', 'w', 'b', 'j'] 4\n",
      "5\n",
      "0 b ['b'] 1\n",
      "1 v ['b', 'v'] 2\n",
      "2 w ['b', 'v', 'w'] 3\n",
      "3 b ['b', 'v', 'w', 'b'] 3\n",
      "4 j ['b', 'v', 'w', 'b', 'j'] 4\n",
      "5 p ['b', 'v', 'w', 'b', 'j', 'p'] 5\n",
      "6 l ['b', 'v', 'w', 'b', 'j', 'p', 'l'] 6\n",
      "7 b ['b', 'v', 'w', 'b', 'j', 'p', 'l', 'b'] 6\n",
      "8 g ['b', 'v', 'w', 'b', 'j', 'p', 'l', 'b', 'g'] 7\n",
      "9 v ['b', 'v', 'w', 'b', 'j', 'p', 'l', 'b', 'g', 'v'] 7\n",
      "10 b ['b', 'v', 'w', 'b', 'j', 'p', 'l', 'b', 'g', 'v', 'b'] 7\n",
      "11 h ['b', 'v', 'w', 'b', 'j', 'p', 'l', 'b', 'g', 'v', 'b', 'h'] 8\n",
      "12 s ['b', 'v', 'w', 'b', 'j', 'p', 'l', 'b', 'g', 'v', 'b', 'h', 's'] 9\n",
      "13 r ['b', 'v', 'w', 'b', 'j', 'p', 'l', 'b', 'g', 'v', 'b', 'h', 's', 'r'] 10\n",
      "14 l ['v', 'w', 'b', 'j', 'p', 'l', 'b', 'g', 'v', 'b', 'h', 's', 'r', 'l'] 10\n",
      "15 p ['w', 'b', 'j', 'p', 'l', 'b', 'g', 'v', 'b', 'h', 's', 'r', 'l', 'p'] 10\n",
      "16 g ['b', 'j', 'p', 'l', 'b', 'g', 'v', 'b', 'h', 's', 'r', 'l', 'p', 'g'] 9\n",
      "17 d ['j', 'p', 'l', 'b', 'g', 'v', 'b', 'h', 's', 'r', 'l', 'p', 'g', 'd'] 10\n",
      "18 m ['p', 'l', 'b', 'g', 'v', 'b', 'h', 's', 'r', 'l', 'p', 'g', 'd', 'm'] 10\n",
      "19 j ['l', 'b', 'g', 'v', 'b', 'h', 's', 'r', 'l', 'p', 'g', 'd', 'm', 'j'] 11\n",
      "20 q ['b', 'g', 'v', 'b', 'h', 's', 'r', 'l', 'p', 'g', 'd', 'm', 'j', 'q'] 12\n",
      "21 w ['g', 'v', 'b', 'h', 's', 'r', 'l', 'p', 'g', 'd', 'm', 'j', 'q', 'w'] 13\n",
      "22 f ['v', 'b', 'h', 's', 'r', 'l', 'p', 'g', 'd', 'm', 'j', 'q', 'w', 'f'] 14\n",
      "23\n"
     ]
    }
   ],
   "source": [
    "#Understanding the chat codeGPT\n",
    "\n",
    "def find_marker(data, length):\n",
    "    buffer = []\n",
    "\n",
    "    for i, char in enumerate(data):\n",
    "        \n",
    "        buffer.append(char)\n",
    "\n",
    "        if len(buffer) > length:\n",
    "            buffer.pop(0)\n",
    "\n",
    "        if len(buffer) == length and len(set(buffer)) == length:\n",
    "            print(i, char, buffer, len(set(buffer)))\n",
    "            return i + 1  # +1 because positions start from 1, not 0\n",
    "        \n",
    "        print(i, char, buffer, len(set(buffer)))\n",
    "\n",
    "    return None\n",
    "\n",
    "data = \"bvwbjplbgvbhsrlpgdmjqwftvncz\"\n",
    "\n",
    "marker_position = find_marker(data, 4)\n",
    "print(marker_position)\n",
    "\n",
    "marker_position = find_marker(data, 14)\n",
    "print(marker_position)"
   ]
  }
 ],
 "metadata": {
  "kernelspec": {
   "display_name": "Python 3",
   "language": "python",
   "name": "python3"
  },
  "language_info": {
   "codemirror_mode": {
    "name": "ipython",
    "version": 3
   },
   "file_extension": ".py",
   "mimetype": "text/x-python",
   "name": "python",
   "nbconvert_exporter": "python",
   "pygments_lexer": "ipython3",
   "version": "3.11.3"
  },
  "orig_nbformat": 4
 },
 "nbformat": 4,
 "nbformat_minor": 2
}
