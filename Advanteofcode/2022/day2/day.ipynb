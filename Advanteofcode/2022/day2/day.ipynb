{
 "cells": [
  {
   "cell_type": "code",
   "execution_count": 3,
   "metadata": {},
   "outputs": [
    {
     "name": "stdout",
     "output_type": "stream",
     "text": [
      "14375\n"
     ]
    }
   ],
   "source": [
    "### Part One ###\n",
    "\n",
    "games = []\n",
    "\n",
    "with open(\"input.txt\") as archivo: \n",
    "    games = archivo.read().split(\"\\n\")\n",
    "\n",
    "games = [game.replace('A', 'X').replace('B', 'Y').replace('C', 'Z').split() for game in games]\n",
    "\n",
    "#rock = [\"A\", \"X\"]\n",
    "#paper = [\"B\", \"Y\"]\n",
    "#scissors = [\"C\", \"Z\"]\n",
    "\n",
    "points = {\n",
    "    \"X\": 1,\n",
    "    \"Y\": 2,\n",
    "    \"Z\": 3\n",
    "}\n",
    "\n",
    "won = 6\n",
    "draw = 3\n",
    "lost = 0\n",
    "\n",
    "def game_result(oppoents_play, your_play):\n",
    "    if oppoents_play == your_play:\n",
    "        return draw\n",
    "    elif your_play == \"X\" and oppoents_play == \"Z\" or your_play == \"Y\" and oppoents_play == \"X\" or your_play == \"Z\" and oppoents_play == \"Y\":\n",
    "        return won\n",
    "    else:\n",
    "        return lost\n",
    "\n",
    "your_score = 0\n",
    "\n",
    "for game in games:\n",
    "    your_score += points.get(game[1])\n",
    "    your_score += game_result(game[0], game[1])\n",
    "\n",
    "print(your_score)\n",
    "\n",
    "    \n",
    "\n"
   ]
  },
  {
   "cell_type": "code",
   "execution_count": 4,
   "metadata": {},
   "outputs": [
    {
     "name": "stdout",
     "output_type": "stream",
     "text": [
      "10274\n"
     ]
    }
   ],
   "source": [
    "### Part Two ###\n",
    "\n",
    "you_shoud = {\n",
    "    \"X\": 0,\n",
    "    \"Y\": 3,\n",
    "    \"Z\": 6\n",
    "}\n",
    "\n",
    "your_score = 0\n",
    "\n",
    "for game in games:\n",
    "    your_score += you_shoud.get(game[1])\n",
    "    if game[1] == \"Y\": #draw\n",
    "        your_score += points.get(game[0])\n",
    "    elif game[1] == \"X\": #lose\n",
    "        if game[0] == \"X\": your_score += points.get(\"Z\")\n",
    "        elif game[0] == \"Y\": your_score += points.get(\"X\")\n",
    "        elif game[0] == \"Z\": your_score += points.get(\"Y\")\n",
    "    elif game[1] == \"Z\": #win\n",
    "        if game[0] == \"Z\": your_score += points.get(\"X\")\n",
    "        elif game[0] == \"X\": your_score += points.get(\"Y\")\n",
    "        elif game[0] == \"Y\": your_score += points.get(\"Z\")\n",
    "\n",
    "        \n",
    "\n",
    "\n",
    "print(your_score)\n"
   ]
  }
 ],
 "metadata": {
  "kernelspec": {
   "display_name": "Python 3",
   "language": "python",
   "name": "python3"
  },
  "language_info": {
   "codemirror_mode": {
    "name": "ipython",
    "version": 3
   },
   "file_extension": ".py",
   "mimetype": "text/x-python",
   "name": "python",
   "nbconvert_exporter": "python",
   "pygments_lexer": "ipython3",
   "version": "3.11.3"
  },
  "orig_nbformat": 4
 },
 "nbformat": 4,
 "nbformat_minor": 2
}
