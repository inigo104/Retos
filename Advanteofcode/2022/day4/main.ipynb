{
 "cells": [
  {
   "cell_type": "code",
   "execution_count": 20,
   "metadata": {},
   "outputs": [
    {
     "ename": "ValueError",
     "evalue": "invalid literal for int() with base 10: '99\\n2'",
     "output_type": "error",
     "traceback": [
      "\u001b[1;31m---------------------------------------------------------------------------\u001b[0m",
      "\u001b[1;31mValueError\u001b[0m                                Traceback (most recent call last)",
      "Cell \u001b[1;32mIn[20], line 20\u001b[0m\n\u001b[0;32m     17\u001b[0m \u001b[39mwith\u001b[39;00m \u001b[39mopen\u001b[39m(\u001b[39m\"\u001b[39m\u001b[39minput.txt\u001b[39m\u001b[39m\"\u001b[39m) \u001b[39mas\u001b[39;00m file: \n\u001b[0;32m     18\u001b[0m     \u001b[39minput\u001b[39m \u001b[39m=\u001b[39m file\u001b[39m.\u001b[39mread()\n\u001b[1;32m---> 20\u001b[0m \u001b[39mprint\u001b[39m(count_fully_contained_pairs(\u001b[39minput\u001b[39;49m))\n",
      "Cell \u001b[1;32mIn[20], line 9\u001b[0m, in \u001b[0;36mcount_fully_contained_pairs\u001b[1;34m(input)\u001b[0m\n\u001b[0;32m      6\u001b[0m assignments \u001b[39m=\u001b[39m \u001b[39minput\u001b[39m\u001b[39m.\u001b[39msplit(\u001b[39m\"\u001b[39m\u001b[39m,\u001b[39m\u001b[39m\"\u001b[39m)\n\u001b[0;32m      8\u001b[0m min_section1, max_section1 \u001b[39m=\u001b[39m \u001b[39mmap\u001b[39m(\u001b[39mint\u001b[39m, assignments[\u001b[39m0\u001b[39m]\u001b[39m.\u001b[39msplit(\u001b[39m\"\u001b[39m\u001b[39m-\u001b[39m\u001b[39m\"\u001b[39m))\n\u001b[1;32m----> 9\u001b[0m min_section2, max_section2 \u001b[39m=\u001b[39m \u001b[39mmap\u001b[39m(\u001b[39mint\u001b[39m, assignments[\u001b[39m1\u001b[39m]\u001b[39m.\u001b[39msplit(\u001b[39m\"\u001b[39m\u001b[39m-\u001b[39m\u001b[39m\"\u001b[39m))\n\u001b[0;32m     11\u001b[0m \u001b[39mif\u001b[39;00m (min_section1 \u001b[39m>\u001b[39m\u001b[39m=\u001b[39m min_section2 \u001b[39mand\u001b[39;00m max_section1 \u001b[39m<\u001b[39m\u001b[39m=\u001b[39m max_section2\n\u001b[0;32m     12\u001b[0m     \u001b[39mor\u001b[39;00m min_section2 \u001b[39m>\u001b[39m\u001b[39m=\u001b[39m min_section1 \u001b[39mand\u001b[39;00m max_section2 \u001b[39m<\u001b[39m\u001b[39m=\u001b[39m max_section1):\n\u001b[0;32m     13\u001b[0m     counter \u001b[39m+\u001b[39m\u001b[39m=\u001b[39m \u001b[39m1\u001b[39m\n",
      "\u001b[1;31mValueError\u001b[0m: invalid literal for int() with base 10: '99\\n2'"
     ]
    }
   ],
   "source": [
    "def count_fully_contained_pairs(input):\n",
    "    counter = 0\n",
    "    lines = input.split(\"\\n\")\n",
    "\n",
    "    for line in lines:\n",
    "        assignments = input.split(\",\")\n",
    "        \n",
    "        min_section1, max_section1 = map(int, assignments[0].split(\"-\"))\n",
    "        min_section2, max_section2 = map(int, assignments[1].split(\"-\"))\n",
    "\n",
    "        if (min_section1 >= min_section2 and max_section1 <= max_section2\n",
    "            or min_section2 >= min_section1 and max_section2 <= max_section1):\n",
    "            counter += 1\n",
    "\n",
    "    return counter\n",
    "\n",
    "with open(\"input.txt\") as file: \n",
    "    input = file.read()\n",
    "\n",
    "print(count_fully_contained_pairs(input))"
   ]
  },
  {
   "cell_type": "code",
   "execution_count": null,
   "metadata": {},
   "outputs": [],
   "source": [
    "print(range(5))\n",
    "print(range(5)[1])"
   ]
  },
  {
   "cell_type": "code",
   "execution_count": null,
   "metadata": {},
   "outputs": [],
   "source": [
    "range = list(map(int, \"2-5\".split('-')))\n",
    "\n",
    "print(range)\n",
    "print(range[0])\n",
    "print(range[1])"
   ]
  },
  {
   "cell_type": "code",
   "execution_count": 21,
   "metadata": {},
   "outputs": [
    {
     "name": "stdout",
     "output_type": "stream",
     "text": [
      "424\n"
     ]
    }
   ],
   "source": [
    "def count_fully_contained_pairs(input):\n",
    "    counter = 0\n",
    "    lines = input.split(\"\\n\")\n",
    "\n",
    "    for line in lines:\n",
    "        assignments = line.split(\",\")  # changed from input.split(\",\")\n",
    "        \n",
    "        min_section1, max_section1 = map(int, assignments[0].split(\"-\"))\n",
    "        min_section2, max_section2 = map(int, assignments[1].split(\"-\"))\n",
    "\n",
    "        if (min_section1 >= min_section2 and max_section1 <= max_section2\n",
    "            or min_section2 >= min_section1 and max_section2 <= max_section1):\n",
    "            counter += 1\n",
    "\n",
    "    return counter\n",
    "\n",
    "with open(\"input.txt\") as file: \n",
    "    input = file.read()\n",
    "\n",
    "print(count_fully_contained_pairs(input))\n"
   ]
  }
 ],
 "metadata": {
  "kernelspec": {
   "display_name": "Python 3",
   "language": "python",
   "name": "python3"
  },
  "language_info": {
   "codemirror_mode": {
    "name": "ipython",
    "version": 3
   },
   "file_extension": ".py",
   "mimetype": "text/x-python",
   "name": "python",
   "nbconvert_exporter": "python",
   "pygments_lexer": "ipython3",
   "version": "3.11.3"
  },
  "orig_nbformat": 4
 },
 "nbformat": 4,
 "nbformat_minor": 2
}
