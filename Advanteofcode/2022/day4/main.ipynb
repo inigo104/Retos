{
 "cells": [
  {
   "cell_type": "code",
   "execution_count": 4,
   "metadata": {},
   "outputs": [
    {
     "name": "stdout",
     "output_type": "stream",
     "text": [
      "424\n"
     ]
    }
   ],
   "source": [
    "def count_fully_contained_pairs(input):\n",
    "    counter = 0\n",
    "    lines = input.split(\"\\n\")\n",
    "\n",
    "    for line in lines:\n",
    "        assignments = line.split(\",\")\n",
    "        \n",
    "        min_section1, max_section1 = map(int, assignments[0].split(\"-\"))\n",
    "        min_section2, max_section2 = map(int, assignments[1].split(\"-\"))\n",
    "\n",
    "        if (min_section1 >= min_section2 and max_section1 <= max_section2\n",
    "            or min_section2 >= min_section1 and max_section2 <= max_section1):\n",
    "            counter += 1\n",
    "\n",
    "\n",
    "    return counter\n",
    "\n",
    "with open(\"input.txt\") as file: \n",
    "    input = file.read()\n",
    "\n",
    "print(count_fully_contained_pairs(input))"
   ]
  },
  {
   "cell_type": "code",
   "execution_count": 5,
   "metadata": {},
   "outputs": [
    {
     "name": "stdout",
     "output_type": "stream",
     "text": [
      "804\n"
     ]
    }
   ],
   "source": [
    "def count_fully_contained_pairs(input):\n",
    "    counter = 0\n",
    "    lines = input.split(\"\\n\")\n",
    "\n",
    "    for line in lines:\n",
    "        assignments = line.split(\",\")\n",
    "        \n",
    "        min_section1, max_section1 = map(int, assignments[0].split(\"-\"))\n",
    "        min_section2, max_section2 = map(int, assignments[1].split(\"-\"))\n",
    "\n",
    "        if (min_section1 >= min_section2 and max_section1 <= max_section2\n",
    "            or min_section2 >= min_section1 and max_section2 <= max_section1):\n",
    "            counter += 1\n",
    "        elif (max_section1 >= min_section2 and max_section1 <= max_section2\n",
    "            or max_section2 >= min_section1 and max_section2 <= max_section1):\n",
    "            counter += 1\n",
    "\n",
    "    return counter\n",
    "\n",
    "with open(\"input.txt\") as file: \n",
    "    input = file.read()\n",
    "\n",
    "print(count_fully_contained_pairs(input))\n"
   ]
  }
 ],
 "metadata": {
  "kernelspec": {
   "display_name": "Python 3",
   "language": "python",
   "name": "python3"
  },
  "language_info": {
   "codemirror_mode": {
    "name": "ipython",
    "version": 3
   },
   "file_extension": ".py",
   "mimetype": "text/x-python",
   "name": "python",
   "nbconvert_exporter": "python",
   "pygments_lexer": "ipython3",
   "version": "3.11.3"
  },
  "orig_nbformat": 4
 },
 "nbformat": 4,
 "nbformat_minor": 2
}
