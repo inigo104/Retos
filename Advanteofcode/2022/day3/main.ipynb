{
 "cells": [
  {
   "cell_type": "code",
   "execution_count": 18,
   "metadata": {},
   "outputs": [],
   "source": [
    "from string import ascii_letters"
   ]
  },
  {
   "cell_type": "code",
   "execution_count": 42,
   "metadata": {},
   "outputs": [
    {
     "name": "stdout",
     "output_type": "stream",
     "text": [
      "24\n",
      "12\n",
      "<class 'set'>\n",
      "16\n"
     ]
    }
   ],
   "source": [
    "a = \"vJrwpWtwJgWrhcsFMMfFFhFp\"\n",
    "\n",
    "print(len(a))\n",
    "\n",
    "mitad = int(len(a)/2)\n",
    "\n",
    "print(mitad)\n",
    "first = a[:mitad]\n",
    "second = a[-mitad:]\n",
    "\n",
    "objet = set(first) & set(second)\n",
    "\n",
    "print(type(objet))\n",
    "objet = list(objet).pop()\n",
    "\n",
    "print(priority(objet))\n",
    "\n"
   ]
  },
  {
   "cell_type": "code",
   "execution_count": 41,
   "metadata": {},
   "outputs": [
    {
     "name": "stdout",
     "output_type": "stream",
     "text": [
      "7850\n"
     ]
    }
   ],
   "source": [
    "#Part1\n",
    "\n",
    "def main():\n",
    "    with open(\"input.txt\") as archivo: \n",
    "        bags = archivo.read().split(\"\\n\")\n",
    "    \n",
    "    total_priorities = 0\n",
    "\n",
    "    for objets in bags:\n",
    "        objet = find_objet(objets)\n",
    "        total_priorities += priority(objet)\n",
    "\n",
    "    print(total_priorities)\n",
    "\n",
    "\n",
    "\n",
    "def priority(objet):\n",
    "    return ascii_letters.index(objet)+1\n",
    "\n",
    "def find_objet(objects):\n",
    "    mitad = int(len(objects)/2)\n",
    "\n",
    "    first = objects[:mitad]\n",
    "    second = objects[-mitad:]\n",
    "\n",
    "    objet = set(first) & set(second)\n",
    "\n",
    "    return list(objet).pop()\n",
    "\n",
    "\n",
    "main()"
   ]
  },
  {
   "cell_type": "code",
   "execution_count": 55,
   "metadata": {},
   "outputs": [
    {
     "name": "stdout",
     "output_type": "stream",
     "text": [
      "300\n",
      "2581\n"
     ]
    }
   ],
   "source": [
    "#Part2\n",
    "\n",
    "with open(\"input.txt\") as archivo: \n",
    "    bags = archivo.read().split(\"\\n\")\n",
    "\n",
    "\n",
    "def priority(objet):\n",
    "    return ascii_letters.index(objet)+1\n",
    "\n",
    "index = 0\n",
    "total_priorities = 0\n",
    "\n",
    "while index != len(bags):\n",
    "    first, second, third = bags[index], bags[index+1], bags[index+2]\n",
    "    objet = set(first) & set(second) & set(third)\n",
    "    objet = list(objet).pop()\n",
    "    total_priorities += priority(objet)\n",
    "    index += 3\n",
    "\n",
    "print (total_priorities)"
   ]
  }
 ],
 "metadata": {
  "kernelspec": {
   "display_name": "Python 3",
   "language": "python",
   "name": "python3"
  },
  "language_info": {
   "codemirror_mode": {
    "name": "ipython",
    "version": 3
   },
   "file_extension": ".py",
   "mimetype": "text/x-python",
   "name": "python",
   "nbconvert_exporter": "python",
   "pygments_lexer": "ipython3",
   "version": "3.11.3"
  },
  "orig_nbformat": 4
 },
 "nbformat": 4,
 "nbformat_minor": 2
}
