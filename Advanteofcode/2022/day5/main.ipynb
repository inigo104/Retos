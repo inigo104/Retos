{
 "cells": [
  {
   "cell_type": "code",
   "execution_count": 65,
   "metadata": {},
   "outputs": [
    {
     "name": "stdout",
     "output_type": "stream",
     "text": [
      "CNSZFDVLJ"
     ]
    }
   ],
   "source": [
    "#Part 1\n",
    "\n",
    "with open(\"input.txt\") as file: \n",
    "    stacks, movements = file.read().split(\"\\n\\n\")\n",
    "\n",
    "stacks = stacks.split(\"\\n\")\n",
    "num_stacks = int(max(stacks.pop().split(\" \")))\n",
    "\n",
    "list_stacks = [[] for _ in range(num_stacks)]\n",
    "\n",
    "for line in reversed(stacks):\n",
    "\n",
    "    for stack in range(num_stacks):\n",
    "        postion = 1 + stack*4\n",
    "        if line[postion] != \" \":\n",
    "            list_stacks[stack].append(line[postion])\n",
    "\n",
    "\n",
    "movements = movements.split(\"\\n\")\n",
    "\n",
    "for line in movements:\n",
    "    accions = line.split(\" \")\n",
    "    n, origin_stack, destiny_stack = int(accions[1]), int(accions[3])-1, int(accions[5])-1\n",
    "    for _ in range(n):\n",
    "        list_stacks[destiny_stack].append(list_stacks[origin_stack].pop())\n",
    "\n",
    "for stack in list_stacks:\n",
    "    print(stack[-1], end=\"\")\n",
    "\n"
   ]
  },
  {
   "cell_type": "code",
   "execution_count": 64,
   "metadata": {},
   "outputs": [
    {
     "name": "stdout",
     "output_type": "stream",
     "text": [
      "QNDWLMGNS"
     ]
    }
   ],
   "source": [
    "#Part 2\n",
    "\n",
    "with open(\"input.txt\") as file: \n",
    "    stacks, movements = file.read().split(\"\\n\\n\")\n",
    "\n",
    "stacks = stacks.split(\"\\n\")\n",
    "num_stacks = int(max(stacks.pop().split(\" \")))\n",
    "\n",
    "list_stacks = [[] for _ in range(num_stacks)]\n",
    "\n",
    "for line in reversed(stacks):\n",
    "\n",
    "    for stack in range(num_stacks):\n",
    "        postion = 1 + stack*4\n",
    "        if line[postion] != \" \":\n",
    "            list_stacks[stack].append(line[postion])\n",
    "\n",
    "\n",
    "movements = movements.split(\"\\n\")\n",
    "boxes=[]\n",
    "\n",
    "for line in movements:\n",
    "    accions = line.split(\" \")\n",
    "    n, origin_stack, destiny_stack = int(accions[1]), int(accions[3])-1, int(accions[5])-1\n",
    "    for _ in range(n):\n",
    "        boxes.append(list_stacks[origin_stack].pop())\n",
    "\n",
    "    for box in reversed(boxes):\n",
    "        list_stacks[destiny_stack].append(box)\n",
    "    boxes.clear()\n",
    "\n",
    "for stack in list_stacks:\n",
    "    print(stack[-1], end=\"\")"
   ]
  }
 ],
 "metadata": {
  "kernelspec": {
   "display_name": "Python 3",
   "language": "python",
   "name": "python3"
  },
  "language_info": {
   "codemirror_mode": {
    "name": "ipython",
    "version": 3
   },
   "file_extension": ".py",
   "mimetype": "text/x-python",
   "name": "python",
   "nbconvert_exporter": "python",
   "pygments_lexer": "ipython3",
   "version": "3.11.3"
  },
  "orig_nbformat": 4
 },
 "nbformat": 4,
 "nbformat_minor": 2
}
