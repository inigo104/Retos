{
 "cells": [
  {
   "cell_type": "code",
   "execution_count": 26,
   "metadata": {},
   "outputs": [
    {
     "name": "stdout",
     "output_type": "stream",
     "text": [
      "1807\n"
     ]
    }
   ],
   "source": [
    "#Part 1\n",
    "import numpy as np\n",
    "\n",
    "with open(\"input.txt\") as file: \n",
    "    input_data = file.read()\n",
    "\n",
    "lines = input_data.strip().split(\"\\n\")\n",
    "num_rows = len(lines)\n",
    "num_columns = len(lines[0])\n",
    "\n",
    "matrix = [list(map(int, line)) for line in lines]\n",
    "matrix_np = np.array(matrix)\n",
    "\n",
    "result_matrix = np.ones((num_rows, num_columns), dtype='int8')\n",
    "result_matrix[1:-1, 1:-1] = np.zeros((num_rows-2, num_columns-2), dtype='int8')\n",
    "\n",
    "for m in range(num_rows):\n",
    "    for n in range(num_columns):\n",
    "        if result_matrix[m, n] == 0:\n",
    "            value = matrix_np[m, n]\n",
    "            if np.max(matrix_np[0:m, n]) < value:\n",
    "                result_matrix[m, n] = 1\n",
    "            elif np.max(matrix_np[m+1:, n]) < value:\n",
    "                result_matrix[m, n] = 1\n",
    "            elif np.max(matrix_np[m, 0:n]) < value:\n",
    "                result_matrix[m, n] = 1\n",
    "            elif np.max(matrix_np[m, n+1:]) < value:\n",
    "                result_matrix[m, n] = 1\n",
    "\n",
    "visible_trees = np.sum(result_matrix)\n",
    "print(visible_trees)\n",
    "\n"
   ]
  },
  {
   "cell_type": "code",
   "execution_count": 9,
   "metadata": {},
   "outputs": [
    {
     "name": "stdout",
     "output_type": "stream",
     "text": [
      "[2 1 0 2 0 1 0 2 1 2 1 2 0 3 3 2 2 1 1 1 2 1 1 2 0 2 3 3 4 1 3 0 3 3 3 3 3\n",
      " 2 1 2 4 3 1 4 3 1 1 1 2 4 2 4 2 1 1 3 4 1 1 3 1 4 3 2 2 0 2 0 3 0 4 0 3 1\n",
      " 3 4 1 4 3 1 3 3 1 1 1 3 3 0 3 2 0 3 1 1 1 0 0 2 2]\n",
      "[2 1 0 2 0]\n",
      "[0 2 1 2 1 2 0 3 3 2 2 1 1 1 2 1 1 2 0 2 3 3 4 1 3 0 3 3 3 3 3 2 1 2 4 3 1\n",
      " 4 3 1 1 1 2 4 2 4 2 1 1 3 4 1 1 3 1 4 3 2 2 0 2 0 3 0 4 0 3 1 3 4 1 4 3 1\n",
      " 3 3 1 1 1 3 3 0 3 2 0 3 1 1 1 0 0 2 2]\n",
      "1\n"
     ]
    }
   ],
   "source": [
    "print(matriz_np[:, 0])\n",
    "print(matriz_np[0:5, 0])\n",
    "print(matriz_np[5+1:, 0])\n",
    "print(matriz_np[5, 0])"
   ]
  }
 ],
 "metadata": {
  "kernelspec": {
   "display_name": "Python 3 (ipykernel)",
   "language": "python",
   "name": "python3"
  },
  "language_info": {
   "codemirror_mode": {
    "name": "ipython",
    "version": 3
   },
   "file_extension": ".py",
   "mimetype": "text/x-python",
   "name": "python",
   "nbconvert_exporter": "python",
   "pygments_lexer": "ipython3",
   "version": "3.11.4"
  }
 },
 "nbformat": 4,
 "nbformat_minor": 4
}
